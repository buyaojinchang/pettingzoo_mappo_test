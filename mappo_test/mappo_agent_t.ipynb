{
 "cells": [
  {
   "cell_type": "code",
   "execution_count": null,
   "id": "initial_id",
   "metadata": {
    "collapsed": true
   },
   "outputs": [],
   "source": [
    ""
   ]
  },
  {
   "metadata": {
    "ExecuteTime": {
     "end_time": "2025-01-03T06:09:13.763330Z",
     "start_time": "2025-01-03T06:09:13.744480Z"
    }
   },
   "cell_type": "code",
   "source": [
    "from pettingzoo.mpe import simple_adversary_v3\n",
    "import torch\n",
    "\n",
    "\n",
    "# Set device\n",
    "device = torch.device(\"cuda\" if torch.cuda.is_available() else \"cpu\")\n",
    "print(f\"Using {device} device\")\n",
    "\n",
    "# Hyper parameters\n",
    "\n",
    "\n",
    "env = simple_adversary_v3.parallel_env(continuous_actions=True)\n",
    "\n",
    "multi_obs, info = env.reset()\n",
    "agent_name_list = env.agents\n",
    "NUM_AGENT = env.num_agents\n",
    "\n",
    "# 1 Initialize agents\n",
    "# 1.1 Get obs_dim, state_dim\n",
    "obs_dim = []\n",
    "for agent_obs in multi_obs.values():\n",
    "    obs_dim.append(agent_obs.shape[0])\n",
    "state_dim = sum(obs_dim)\n",
    "\n",
    "# 1.2 Get action_dim\n",
    "action_dim = []\n",
    "for agent_name in agent_name_list:\n",
    "    action_dim.append(env.action_space(agent_name).sample().shape[0])\n",
    "\n",
    "# 1.3 init all agents\n",
    "agents = []\n",
    "for agent_i in range(NUM_AGENT):\n",
    "    print(f\"Initializing agent {agent_i}\")\n",
    "    agent = Agent()    # TODO\n",
    "    agents.append(agent)\n",
    "\n",
    "# 2 Training loop\n"
   ],
   "id": "47bc94c0fc31c567",
   "outputs": [
    {
     "name": "stdout",
     "output_type": "stream",
     "text": [
      "Using cpu device\n",
      "Initializing agent 0\n"
     ]
    },
    {
     "ename": "NameError",
     "evalue": "name 'Agent' is not defined",
     "output_type": "error",
     "traceback": [
      "\u001B[0;31m---------------------------------------------------------------------------\u001B[0m",
      "\u001B[0;31mNameError\u001B[0m                                 Traceback (most recent call last)",
      "Cell \u001B[0;32mIn[20], line 34\u001B[0m\n\u001B[1;32m     32\u001B[0m \u001B[38;5;28;01mfor\u001B[39;00m agent_i \u001B[38;5;129;01min\u001B[39;00m \u001B[38;5;28mrange\u001B[39m(NUM_AGENT):\n\u001B[1;32m     33\u001B[0m     \u001B[38;5;28mprint\u001B[39m(\u001B[38;5;124mf\u001B[39m\u001B[38;5;124m\"\u001B[39m\u001B[38;5;124mInitializing agent \u001B[39m\u001B[38;5;132;01m{\u001B[39;00magent_i\u001B[38;5;132;01m}\u001B[39;00m\u001B[38;5;124m\"\u001B[39m)\n\u001B[0;32m---> 34\u001B[0m     agent \u001B[38;5;241m=\u001B[39m \u001B[43mAgent\u001B[49m()    \u001B[38;5;66;03m# TODO\u001B[39;00m\n\u001B[1;32m     35\u001B[0m     agents\u001B[38;5;241m.\u001B[39mappend(agent)\n",
      "\u001B[0;31mNameError\u001B[0m: name 'Agent' is not defined"
     ]
    }
   ],
   "execution_count": 20
  }
 ],
 "metadata": {
  "kernelspec": {
   "display_name": "Python 3",
   "language": "python",
   "name": "python3"
  },
  "language_info": {
   "codemirror_mode": {
    "name": "ipython",
    "version": 2
   },
   "file_extension": ".py",
   "mimetype": "text/x-python",
   "name": "python",
   "nbconvert_exporter": "python",
   "pygments_lexer": "ipython2",
   "version": "2.7.6"
  }
 },
 "nbformat": 4,
 "nbformat_minor": 5
}
