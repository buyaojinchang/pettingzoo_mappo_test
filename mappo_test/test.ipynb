{
 "cells": [
  {
   "cell_type": "code",
   "id": "initial_id",
   "metadata": {
    "collapsed": true,
    "ExecuteTime": {
     "end_time": "2025-01-04T12:14:14.446585Z",
     "start_time": "2025-01-04T12:14:14.440719Z"
    }
   },
   "source": [
    "from pettingzoo.mpe import simple_adversary_v3\n",
    "import torch\n",
    "import numpy as np\n",
    "\n",
    "env = simple_adversary_v3.parallel_env(continuous_actions=True)\n",
    "multi_obs, info = env.reset()\n",
    "\n",
    "single_action = env.action_space(env.agents[0]).sample()\n",
    "print(single_action)\n",
    "print(sum(single_action))\n",
    "torch_single_action = torch.tensor(single_action)\n",
    "single_action_clamped = torch.clamp(torch_single_action, 0.0, 1.0)\n",
    "print(single_action_clamped)\n"
   ],
   "outputs": [
    {
     "name": "stdout",
     "output_type": "stream",
     "text": [
      "[0.38812858 0.07273941 0.84024453 0.22417097 0.1623372 ]\n",
      "1.6876206919550896\n",
      "tensor([0.3881, 0.0727, 0.8402, 0.2242, 0.1623])\n"
     ]
    }
   ],
   "execution_count": 20
  }
 ],
 "metadata": {
  "kernelspec": {
   "display_name": "Python 3",
   "language": "python",
   "name": "python3"
  },
  "language_info": {
   "codemirror_mode": {
    "name": "ipython",
    "version": 2
   },
   "file_extension": ".py",
   "mimetype": "text/x-python",
   "name": "python",
   "nbconvert_exporter": "python",
   "pygments_lexer": "ipython2",
   "version": "2.7.6"
  }
 },
 "nbformat": 4,
 "nbformat_minor": 5
}
